{
 "cells": [
  {
   "cell_type": "markdown",
   "id": "7f2cfce7",
   "metadata": {},
   "source": [
    "# Bitcoin Trading Behavior vs Market Sentiment"
   ]
  },
  {
   "cell_type": "markdown",
   "id": "b56b2911",
   "metadata": {},
   "source": [
    "\n",
    "In this project, I explored how trading activity and risk-taking align with the Bitcoin market sentiment (Fear vs Greed). \n",
    "I aimed to see if traders take on more volume or leverage when sentiment is optimistic (Greed) versus cautious (Fear).\n",
    "\n",
    "The analysis uses historical trader data and a Bitcoin Fear & Greed index, merged by date.\n"
   ]
  },
  {
   "cell_type": "code",
   "execution_count": null,
   "id": "5aef50e8",
   "metadata": {},
   "outputs": [],
   "source": [
    "\n",
    "import pandas as pd\n",
    "\n",
    "sentiment_df = pd.read_csv(\"csv_files/fear_greed_index.csv\")\n",
    "trader_df = pd.read_csv(\"csv_files/historical_data.csv\")\n"
   ]
  },
  {
   "cell_type": "code",
   "execution_count": null,
   "id": "5664eef1",
   "metadata": {},
   "outputs": [],
   "source": [
    "\n",
    "sentiment_df['date'] = pd.to_datetime(sentiment_df['date'])\n",
    "sentiment_df['Sentiment'] = sentiment_df['classification'].apply(lambda x: 'Fear' if 'Fear' in x else 'Greed')\n",
    "sentiment_df = sentiment_df[['date', 'Sentiment']]\n",
    "\n",
    "trader_df['date'] = pd.to_datetime(pd.to_datetime(trader_df['Timestamp IST'], format='%d-%m-%Y %H:%M').dt.date)\n",
    "trader_df['Closed PnL'] = pd.to_numeric(trader_df['Closed PnL'], errors='coerce')\n",
    "trader_df['Size USD'] = pd.to_numeric(trader_df['Size USD'], errors='coerce')\n",
    "trader_df['Start Position'] = pd.to_numeric(trader_df['Start Position'], errors='coerce')\n",
    "\n",
    "merged_df = trader_df.merge(sentiment_df, on='date', how='left')\n",
    "merged_df.head()\n"
   ]
  },
  {
   "cell_type": "code",
   "execution_count": null,
   "id": "d5680bca",
   "metadata": {},
   "outputs": [],
   "source": [
    "\n",
    "import matplotlib.pyplot as plt\n",
    "import seaborn as sns\n",
    "\n",
    "sns.set(style=\"whitegrid\")\n",
    "\n",
    "# Average Position Size by Sentiment\n",
    "avg_position = merged_df.groupby('Sentiment')['Start Position'].mean()\n",
    "sns.barplot(x=avg_position.index, y=avg_position.values, palette='viridis')\n",
    "plt.title(\"Average Position Size by Market Sentiment\")\n",
    "plt.ylabel(\"Avg Position Size\")\n",
    "plt.xlabel(\"Market Sentiment\")\n",
    "plt.show()\n",
    "\n",
    "# Average Closed PnL by Sentiment\n",
    "avg_pnl = merged_df.groupby('Sentiment')['Closed PnL'].mean()\n",
    "sns.barplot(x=avg_pnl.index, y=avg_pnl.values, palette='coolwarm')\n",
    "plt.title(\"Average Closed PnL by Market Sentiment\")\n",
    "plt.ylabel(\"Avg Closed PnL\")\n",
    "plt.xlabel(\"Market Sentiment\")\n",
    "plt.show()\n",
    "\n",
    "# Net Trading Volume by Sentiment\n",
    "total_volume = merged_df.groupby('Sentiment')['Size USD'].sum()\n",
    "sns.barplot(x=total_volume.index, y=total_volume.values, palette='magma')\n",
    "plt.title(\"Net Trading Volume by Market Sentiment\")\n",
    "plt.ylabel(\"Total Volume (USD)\")\n",
    "plt.xlabel(\"Market Sentiment\")\n",
    "plt.show()\n"
   ]
  }
 ],
 "metadata": {},
 "nbformat": 4,
 "nbformat_minor": 5
}
